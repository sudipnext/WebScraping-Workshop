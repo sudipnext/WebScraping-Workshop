{
 "cells": [
  {
   "cell_type": "markdown",
   "id": "2f63a070",
   "metadata": {},
   "source": [
    "## <span style=\"color:#3366ff; font-weight:bold;\">Web Scraping Workshop - Dec 23, Saturday 2023</span>\n",
    "### Instructor: <span style=\"font-weight:normal;\">Sudip Parajuli</span>\n",
    "##### Organized by: EXCESS as X-Tech Studio 4.0 PreEvent\n"
   ]
  },
  {
   "cell_type": "markdown",
   "id": "6ec23487",
   "metadata": {},
   "source": [
    "## **Module 1: Introduction to Web Scraping**\n"
   ]
  },
  {
   "cell_type": "markdown",
   "id": "5707e9a0",
   "metadata": {},
   "source": [
    "### What is Web Scraping?\n",
    "- 🕸️ Web Scraping: the magical art of extracting data from any website!\n",
    "\n",
    "### Why is Web Scraping Valuable?\n",
    "- 🌟 Because it turns random web pages into treasure troves of information!\n",
    "\n",
    "### Real World Applications of Web Scraping\n",
    "- 🏛️ Academic research: Gathering data for scholarly studies\n",
    "- 📈 Business insights: Accessing market trends at your fingertips\n",
    "- 🛒 Price monitoring: Finding the best deals for savvy shoppers\n",
    "- 🔍 Competitive analysis: Keeping an eye on the competition\n",
    "- 🗞️ News aggregation: Bringing the headlines to you\n"
   ]
  },
  {
   "cell_type": "markdown",
   "id": "37fa058e",
   "metadata": {},
   "source": [
    "## **Module 2: HTML Basics and Inspecting Web Pages**\n",
    "\n"
   ]
  },
  {
   "cell_type": "code",
   "execution_count": null,
   "id": "132b49a1",
   "metadata": {},
   "outputs": [],
   "source": [
    "<!DOCTYPE html>\n",
    "<html lang=\"en\">\n",
    "<head>\n",
    "    <meta charset=\"UTF-8\">\n",
    "    <title>HTML Basics and Inspecting Web Pages</title>\n",
    "</head>\n",
    "<body>\n",
    "    <h1>Welcome to HTML Basics!</h1>\n",
    "    <p>HTML (HyperText Markup Language) is the standard language for creating web pages. It provides the structure for content on the web.</p>\n",
    "    \n",
    "    <h2>Basic HTML Structure</h2>\n",
    "    <p>HTML documents consist of elements. Each element begins with an opening tag and ends with a closing tag.</p>\n",
    "    <p>&lt;element&gt;Content&lt;/element&gt;</p>\n",
    "    \n",
    "    <h2>Inspecting Web Pages</h2>\n",
    "    <p>Inspecting web pages allows us to view and understand the structure, styles, and content of a webpage using browser developer tools.</p>\n",
    "    <p>To inspect a web page:</p>\n",
    "    <ol>\n",
    "        <li>Right-click on an element.</li>\n",
    "        <li>Select \"Inspect\" or \"Inspect Element\".</li>\n",
    "        <li>The developer tools panel will open, displaying the HTML and CSS of the element.</li>\n",
    "    </ol>\n",
    "    \n",
    "    <h2>Example Element</h2>\n",
    "    <p>This is an example paragraph. You can inspect this paragraph to see its HTML structure.</p>\n",
    "    \n",
    "    <h2>Example Table</h2>\n",
    "    <table border=\"1\">\n",
    "        <caption>Sample Table</caption>\n",
    "        <tr>\n",
    "            <th>Header 1</th>\n",
    "            <th>Header 2</th>\n",
    "            <th>Header 3</th>\n",
    "        </tr>\n",
    "        <tr>\n",
    "            <td>Row 1, Cell 1</td>\n",
    "            <td>Row 1, Cell 2</td>\n",
    "            <td>Row 1, Cell 3</td>\n",
    "        </tr>\n",
    "        <tr>\n",
    "            <td>Row 2, Cell 1</td>\n",
    "            <td>Row 2, Cell 2</td>\n",
    "            <td>Row 2, Cell 3</td>\n",
    "        </tr>\n",
    "    </table>\n",
    "    \n",
    "    <footer>\n",
    "        <p>You can put your footer contents here!</p>\n",
    "    </footer>\n",
    "</body>\n",
    "</html>\n"
   ]
  },
  {
   "cell_type": "markdown",
   "id": "6dbe0204",
   "metadata": {},
   "source": [
    "### **<span style=\"color: lightgray;\">Output:- This is how the rendered page should look like</span>**\n",
    "\n",
    "![Rendered Image](page.png)\n"
   ]
  },
  {
   "cell_type": "markdown",
   "id": "eee4e80b",
   "metadata": {},
   "source": [
    "### **Intro to HTML Tags and Attributes**\n",
    "\n",
    "HTML (Hypertext Markup Language) utilizes tags and attributes to structure and define content within a web page. Tags are used to mark the beginning and end of elements, while attributes provide additional information about the elements.\n",
    "\n",
    "**HTML Tags**\n",
    "\n",
    "Tags are enclosed in angle brackets <>, and most come in pairs—an opening tag and a closing tag.\n",
    "\n",
    "\n",
    "**Example:**\n",
    "\n",
    "\n",
    "Putting Text\n",
    "```html\n",
    "<p>This is a paragraph tag. It has an opening <p> and a closing </p> tag.</p>\n",
    "<h1> to <h6> Tags (Headings)\n",
    "Defines headings with varying sizes, where <h1> is the largest and <h6> is the smallest.   \n",
    "```\n",
    "Anchor Tag\n",
    "- Creates hyperlinks to other web pages or resources.\n",
    "```html\n",
    "<a href=\"https://example.com\">Visit our website</a>\n",
    "```\n",
    "\n",
    "Image\n",
    "- Embeds images into a web page.\n",
    "```html\n",
    "<img src=\"image.jpg\" alt=\"Description of the image\">\n",
    "```\n",
    "\n",
    "Unordered List Tag\n",
    "- Creates an unordered (bulleted) list.\n",
    "For ordered just replace the ul with ol\n",
    "```html\n",
    "<ul>\n",
    "    <li>Item 1</li>\n",
    "    <li>Item 2</li>\n",
    "</ul>\n",
    "```\n",
    "\n",
    "Table Tag\n",
    "- Creates a table structure with rows and columns.\n",
    "\n",
    "```html\n",
    "<table>\n",
    "    <tr>\n",
    "        <th>Header 1</th>\n",
    "        <th>Header 2</th>\n",
    "        <th>Header 3</th>\n",
    "    </tr>\n",
    "    <tr>\n",
    "        <td>Row 1, Cell 1</td>\n",
    "        <td>Row 1, Cell 2</td>\n",
    "        <td>Row 1, Cell 3</td>\n",
    "    </tr>\n",
    "    <tr>\n",
    "        <td>Row 2, Cell 1</td>\n",
    "        <td>Row 2, Cell 2</td>\n",
    "        <td>Row 2, Cell 3</td>\n",
    "    </tr>\n",
    "</table>\n",
    "```\n",
    "Form Tag\n",
    "- Defines a form for user input with input fields and a submit button.\n",
    "```html\n",
    "<form action=\"/submit-form\" method=\"post\">\n",
    "    <label for=\"username\">Username:</label>\n",
    "    <input type=\"text\" id=\"username\" name=\"username\"><br><br>\n",
    "    <label for=\"password\">Password:</label>\n",
    "    <input type=\"password\" id=\"password\" name=\"password\"><br><br>\n",
    "    <input type=\"submit\" value=\"Submit\">\n",
    "</form>\n",
    "```\n",
    "\n",
    "Div Tag\n",
    "- Creates a division or a container that can be styled using CSS.\n",
    "```html\n",
    "<div>\n",
    "    <!-- Content to be enclosed within the div -->\n",
    "</div>\n",
    "```\n",
    "\n",
    "\n"
   ]
  },
  {
   "cell_type": "markdown",
   "metadata": {},
   "source": [
    "### **Overview of CSS selectors for targeting elements**"
   ]
  },
  {
   "cell_type": "markdown",
   "id": "106752e9",
   "metadata": {},
   "source": [
    "### **Inspecting Web Pages**\n",
    "\n",
    "Inspecting web pages allows us to view and understand the structure, styles, and content of a webpage using browser developer tools.\n",
    "\n",
    "**To inspect a web page:**\n",
    "1. Right-click on an element.\n",
    "2. Select \"Inspect\" or \"Inspect Element\".\n",
    "3. The developer tools panel will open, displaying the HTML and CSS of the element.\n"
   ]
  },
  {
   "cell_type": "markdown",
   "id": "cdc1ba31",
   "metadata": {},
   "source": [
    "## **Module 3: Extracting Data with CSS Selectors**"
   ]
  },
  {
   "cell_type": "markdown",
   "metadata": {},
   "source": [
    "### **Overview of CSS selectors for targeting elements**"
   ]
  },
  {
   "cell_type": "markdown",
   "metadata": {},
   "source": []
  },
  {
   "cell_type": "markdown",
   "metadata": {},
   "source": [
    "### **Locating and targeting elements using CSS Selectors**"
   ]
  },
  {
   "cell_type": "markdown",
   "metadata": {},
   "source": []
  },
  {
   "cell_type": "markdown",
   "metadata": {},
   "source": [
    "### **Extracting data from HTML elements (text, attributes, etc.)**"
   ]
  },
  {
   "cell_type": "markdown",
   "metadata": {},
   "source": []
  },
  {
   "cell_type": "markdown",
   "metadata": {},
   "source": [
    "## **Module 4: Handling Dynamic Web Content**"
   ]
  },
  {
   "cell_type": "markdown",
   "metadata": {},
   "source": [
    "### **Understanding dynamic web content**"
   ]
  },
  {
   "cell_type": "markdown",
   "metadata": {},
   "source": []
  },
  {
   "cell_type": "markdown",
   "metadata": {},
   "source": [
    "### **Dealing with JavaScript-driven Websites**"
   ]
  },
  {
   "cell_type": "markdown",
   "metadata": {},
   "source": []
  },
  {
   "cell_type": "markdown",
   "metadata": {},
   "source": [
    "### **Introduction to headless browsers and their role in web scraping**"
   ]
  },
  {
   "cell_type": "markdown",
   "metadata": {},
   "source": []
  },
  {
   "cell_type": "markdown",
   "metadata": {},
   "source": [
    "## **Module 5: Web Scraping Tools and Libraries**"
   ]
  },
  {
   "cell_type": "markdown",
   "metadata": {},
   "source": [
    "### **Introduction to popular web scraping tools and libraries (e.g: BeautifulSoup, Scrapy, Selenium, MechanicalSoup)**"
   ]
  },
  {
   "cell_type": "markdown",
   "metadata": {},
   "source": []
  },
  {
   "cell_type": "markdown",
   "metadata": {},
   "source": [
    "### **Pros and Cons of different tools**"
   ]
  },
  {
   "cell_type": "markdown",
   "metadata": {},
   "source": []
  },
  {
   "cell_type": "markdown",
   "metadata": {},
   "source": [
    "### **Selecting the right tool for your scraping needs**"
   ]
  },
  {
   "cell_type": "markdown",
   "metadata": {},
   "source": []
  },
  {
   "cell_type": "markdown",
   "metadata": {},
   "source": [
    "## **Module 6: Best Practices and Ethical Considerations**"
   ]
  },
  {
   "cell_type": "markdown",
   "metadata": {},
   "source": [
    "### **Respecting website terms of service and scraping policies**"
   ]
  },
  {
   "cell_type": "markdown",
   "metadata": {},
   "source": []
  }
 ],
 "metadata": {
  "kernelspec": {
   "display_name": "Python 3 (ipykernel)",
   "language": "python",
   "name": "python3"
  },
  "language_info": {
   "codemirror_mode": {
    "name": "ipython",
    "version": 3
   },
   "file_extension": ".py",
   "mimetype": "text/x-python",
   "name": "python",
   "nbconvert_exporter": "python",
   "pygments_lexer": "ipython3",
   "version": "3.11.0"
  }
 },
 "nbformat": 4,
 "nbformat_minor": 5
}
